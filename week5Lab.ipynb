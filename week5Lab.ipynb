{
 "cells": [
  {
   "cell_type": "code",
   "execution_count": 24,
   "id": "dab0e657",
   "metadata": {
    "scrolled": true
   },
   "outputs": [
    {
     "data": {
      "text/html": [
       "<div>\n",
       "<style scoped>\n",
       "    .dataframe tbody tr th:only-of-type {\n",
       "        vertical-align: middle;\n",
       "    }\n",
       "\n",
       "    .dataframe tbody tr th {\n",
       "        vertical-align: top;\n",
       "    }\n",
       "\n",
       "    .dataframe thead th {\n",
       "        text-align: right;\n",
       "    }\n",
       "</style>\n",
       "<table border=\"1\" class=\"dataframe\">\n",
       "  <thead>\n",
       "    <tr style=\"text-align: right;\">\n",
       "      <th></th>\n",
       "      <th>country</th>\n",
       "      <th>child_mort</th>\n",
       "      <th>exports</th>\n",
       "      <th>health</th>\n",
       "      <th>imports</th>\n",
       "      <th>income</th>\n",
       "      <th>inflation</th>\n",
       "      <th>life_expec</th>\n",
       "      <th>total_fer</th>\n",
       "      <th>gdpp</th>\n",
       "    </tr>\n",
       "  </thead>\n",
       "  <tbody>\n",
       "    <tr>\n",
       "      <th>0</th>\n",
       "      <td>Afghanistan</td>\n",
       "      <td>90.2</td>\n",
       "      <td>10.0</td>\n",
       "      <td>7.58</td>\n",
       "      <td>44.9</td>\n",
       "      <td>1610</td>\n",
       "      <td>9.44</td>\n",
       "      <td>56.2</td>\n",
       "      <td>5.82</td>\n",
       "      <td>553</td>\n",
       "    </tr>\n",
       "    <tr>\n",
       "      <th>1</th>\n",
       "      <td>Albania</td>\n",
       "      <td>16.6</td>\n",
       "      <td>28.0</td>\n",
       "      <td>6.55</td>\n",
       "      <td>48.6</td>\n",
       "      <td>9930</td>\n",
       "      <td>4.49</td>\n",
       "      <td>76.3</td>\n",
       "      <td>1.65</td>\n",
       "      <td>4090</td>\n",
       "    </tr>\n",
       "    <tr>\n",
       "      <th>2</th>\n",
       "      <td>Algeria</td>\n",
       "      <td>27.3</td>\n",
       "      <td>38.4</td>\n",
       "      <td>4.17</td>\n",
       "      <td>31.4</td>\n",
       "      <td>12900</td>\n",
       "      <td>16.10</td>\n",
       "      <td>76.5</td>\n",
       "      <td>2.89</td>\n",
       "      <td>4460</td>\n",
       "    </tr>\n",
       "    <tr>\n",
       "      <th>3</th>\n",
       "      <td>Angola</td>\n",
       "      <td>119.0</td>\n",
       "      <td>62.3</td>\n",
       "      <td>2.85</td>\n",
       "      <td>42.9</td>\n",
       "      <td>5900</td>\n",
       "      <td>22.40</td>\n",
       "      <td>60.1</td>\n",
       "      <td>6.16</td>\n",
       "      <td>3530</td>\n",
       "    </tr>\n",
       "    <tr>\n",
       "      <th>4</th>\n",
       "      <td>Antigua and Barbuda</td>\n",
       "      <td>10.3</td>\n",
       "      <td>45.5</td>\n",
       "      <td>6.03</td>\n",
       "      <td>58.9</td>\n",
       "      <td>19100</td>\n",
       "      <td>1.44</td>\n",
       "      <td>76.8</td>\n",
       "      <td>2.13</td>\n",
       "      <td>12200</td>\n",
       "    </tr>\n",
       "  </tbody>\n",
       "</table>\n",
       "</div>"
      ],
      "text/plain": [
       "               country  child_mort  exports  health  imports  income  \\\n",
       "0          Afghanistan        90.2     10.0    7.58     44.9    1610   \n",
       "1              Albania        16.6     28.0    6.55     48.6    9930   \n",
       "2              Algeria        27.3     38.4    4.17     31.4   12900   \n",
       "3               Angola       119.0     62.3    2.85     42.9    5900   \n",
       "4  Antigua and Barbuda        10.3     45.5    6.03     58.9   19100   \n",
       "\n",
       "   inflation  life_expec  total_fer   gdpp  \n",
       "0       9.44        56.2       5.82    553  \n",
       "1       4.49        76.3       1.65   4090  \n",
       "2      16.10        76.5       2.89   4460  \n",
       "3      22.40        60.1       6.16   3530  \n",
       "4       1.44        76.8       2.13  12200  "
      ]
     },
     "execution_count": 24,
     "metadata": {},
     "output_type": "execute_result"
    }
   ],
   "source": [
    "import numpy as np\n",
    "import pandas as pd\n",
    "import seaborn as sns\n",
    "import matplotlib.pyplot as plt\n",
    "%matplotlib inline\n",
    "\n",
    "from sklearn.preprocessing import MinMaxScaler\n",
    "from sklearn.preprocessing import StandardScaler\n",
    "\n",
    "from sklearn import linear_model\n",
    "Pov_data = pd.read_csv(\"Poverty_LifeExp.csv\")\n",
    "Pov_data.head()"
   ]
  },
  {
   "cell_type": "code",
   "execution_count": 25,
   "id": "bd1860b1",
   "metadata": {
    "scrolled": true
   },
   "outputs": [
    {
     "data": {
      "text/html": [
       "<div>\n",
       "<style scoped>\n",
       "    .dataframe tbody tr th:only-of-type {\n",
       "        vertical-align: middle;\n",
       "    }\n",
       "\n",
       "    .dataframe tbody tr th {\n",
       "        vertical-align: top;\n",
       "    }\n",
       "\n",
       "    .dataframe thead th {\n",
       "        text-align: right;\n",
       "    }\n",
       "</style>\n",
       "<table border=\"1\" class=\"dataframe\">\n",
       "  <thead>\n",
       "    <tr style=\"text-align: right;\">\n",
       "      <th></th>\n",
       "      <th>ISO</th>\n",
       "      <th>Country</th>\n",
       "      <th>MPI Urban</th>\n",
       "      <th>Headcount Ratio Urban</th>\n",
       "      <th>Intensity of Deprivation Urban</th>\n",
       "      <th>MPI Rural</th>\n",
       "      <th>Headcount Ratio Rural</th>\n",
       "      <th>Intensity of Deprivation Rural</th>\n",
       "    </tr>\n",
       "  </thead>\n",
       "  <tbody>\n",
       "    <tr>\n",
       "      <th>0</th>\n",
       "      <td>KAZ</td>\n",
       "      <td>Kazakhstan</td>\n",
       "      <td>0.000</td>\n",
       "      <td>0.0</td>\n",
       "      <td>33.3</td>\n",
       "      <td>0.000</td>\n",
       "      <td>0.09</td>\n",
       "      <td>33.3</td>\n",
       "    </tr>\n",
       "    <tr>\n",
       "      <th>1</th>\n",
       "      <td>SRB</td>\n",
       "      <td>Serbia</td>\n",
       "      <td>0.000</td>\n",
       "      <td>0.1</td>\n",
       "      <td>41.4</td>\n",
       "      <td>0.002</td>\n",
       "      <td>0.50</td>\n",
       "      <td>40.3</td>\n",
       "    </tr>\n",
       "    <tr>\n",
       "      <th>2</th>\n",
       "      <td>KGZ</td>\n",
       "      <td>Kyrgyzstan</td>\n",
       "      <td>0.000</td>\n",
       "      <td>0.1</td>\n",
       "      <td>40.2</td>\n",
       "      <td>0.003</td>\n",
       "      <td>0.70</td>\n",
       "      <td>37.1</td>\n",
       "    </tr>\n",
       "    <tr>\n",
       "      <th>3</th>\n",
       "      <td>TUN</td>\n",
       "      <td>Tunisia</td>\n",
       "      <td>0.000</td>\n",
       "      <td>0.1</td>\n",
       "      <td>35.6</td>\n",
       "      <td>0.012</td>\n",
       "      <td>3.18</td>\n",
       "      <td>38.7</td>\n",
       "    </tr>\n",
       "    <tr>\n",
       "      <th>4</th>\n",
       "      <td>ARM</td>\n",
       "      <td>Armenia</td>\n",
       "      <td>0.001</td>\n",
       "      <td>0.2</td>\n",
       "      <td>33.3</td>\n",
       "      <td>0.001</td>\n",
       "      <td>0.39</td>\n",
       "      <td>36.9</td>\n",
       "    </tr>\n",
       "  </tbody>\n",
       "</table>\n",
       "</div>"
      ],
      "text/plain": [
       "   ISO     Country  MPI Urban  Headcount Ratio Urban  \\\n",
       "0  KAZ  Kazakhstan      0.000                    0.0   \n",
       "1  SRB      Serbia      0.000                    0.1   \n",
       "2  KGZ  Kyrgyzstan      0.000                    0.1   \n",
       "3  TUN     Tunisia      0.000                    0.1   \n",
       "4  ARM     Armenia      0.001                    0.2   \n",
       "\n",
       "   Intensity of Deprivation Urban  MPI Rural  Headcount Ratio Rural  \\\n",
       "0                            33.3      0.000                   0.09   \n",
       "1                            41.4      0.002                   0.50   \n",
       "2                            40.2      0.003                   0.70   \n",
       "3                            35.6      0.012                   3.18   \n",
       "4                            33.3      0.001                   0.39   \n",
       "\n",
       "   Intensity of Deprivation Rural  \n",
       "0                            33.3  \n",
       "1                            40.3  \n",
       "2                            37.1  \n",
       "3                            38.7  \n",
       "4                            36.9  "
      ]
     },
     "execution_count": 25,
     "metadata": {},
     "output_type": "execute_result"
    }
   ],
   "source": [
    "my_mpi_ds = pd.read_csv(\"MPI_Dataset.csv\")\n",
    "my_mpi_ds.head()"
   ]
  },
  {
   "cell_type": "code",
   "execution_count": 26,
   "id": "4271cb31",
   "metadata": {
    "scrolled": false
   },
   "outputs": [
    {
     "data": {
      "text/html": [
       "<div>\n",
       "<style scoped>\n",
       "    .dataframe tbody tr th:only-of-type {\n",
       "        vertical-align: middle;\n",
       "    }\n",
       "\n",
       "    .dataframe tbody tr th {\n",
       "        vertical-align: top;\n",
       "    }\n",
       "\n",
       "    .dataframe thead th {\n",
       "        text-align: right;\n",
       "    }\n",
       "</style>\n",
       "<table border=\"1\" class=\"dataframe\">\n",
       "  <thead>\n",
       "    <tr style=\"text-align: right;\">\n",
       "      <th></th>\n",
       "      <th>country</th>\n",
       "      <th>child_mort</th>\n",
       "      <th>exports</th>\n",
       "      <th>health</th>\n",
       "      <th>imports</th>\n",
       "      <th>income</th>\n",
       "      <th>inflation</th>\n",
       "      <th>life_expec</th>\n",
       "      <th>total_fer</th>\n",
       "      <th>gdpp</th>\n",
       "      <th>mpi_urban</th>\n",
       "      <th>mpi_rural</th>\n",
       "    </tr>\n",
       "  </thead>\n",
       "  <tbody>\n",
       "    <tr>\n",
       "      <th>0</th>\n",
       "      <td>Afghanistan</td>\n",
       "      <td>90.2</td>\n",
       "      <td>10.0</td>\n",
       "      <td>7.58</td>\n",
       "      <td>44.9</td>\n",
       "      <td>1610</td>\n",
       "      <td>9.44</td>\n",
       "      <td>56.2</td>\n",
       "      <td>5.82</td>\n",
       "      <td>553</td>\n",
       "      <td>0.132</td>\n",
       "      <td>0.347</td>\n",
       "    </tr>\n",
       "    <tr>\n",
       "      <th>1</th>\n",
       "      <td>Albania</td>\n",
       "      <td>16.6</td>\n",
       "      <td>28.0</td>\n",
       "      <td>6.55</td>\n",
       "      <td>48.6</td>\n",
       "      <td>9930</td>\n",
       "      <td>4.49</td>\n",
       "      <td>76.3</td>\n",
       "      <td>1.65</td>\n",
       "      <td>4090</td>\n",
       "      <td>0.003</td>\n",
       "      <td>0.007</td>\n",
       "    </tr>\n",
       "    <tr>\n",
       "      <th>2</th>\n",
       "      <td>Algeria</td>\n",
       "      <td>27.3</td>\n",
       "      <td>38.4</td>\n",
       "      <td>4.17</td>\n",
       "      <td>31.4</td>\n",
       "      <td>12900</td>\n",
       "      <td>16.10</td>\n",
       "      <td>76.5</td>\n",
       "      <td>2.89</td>\n",
       "      <td>4460</td>\n",
       "      <td>0.003</td>\n",
       "      <td>0.011</td>\n",
       "    </tr>\n",
       "    <tr>\n",
       "      <th>3</th>\n",
       "      <td>Armenia</td>\n",
       "      <td>18.1</td>\n",
       "      <td>20.8</td>\n",
       "      <td>4.40</td>\n",
       "      <td>45.3</td>\n",
       "      <td>6700</td>\n",
       "      <td>7.77</td>\n",
       "      <td>73.3</td>\n",
       "      <td>1.69</td>\n",
       "      <td>3220</td>\n",
       "      <td>0.001</td>\n",
       "      <td>0.001</td>\n",
       "    </tr>\n",
       "    <tr>\n",
       "      <th>4</th>\n",
       "      <td>Azerbaijan</td>\n",
       "      <td>39.2</td>\n",
       "      <td>54.3</td>\n",
       "      <td>5.88</td>\n",
       "      <td>20.7</td>\n",
       "      <td>16000</td>\n",
       "      <td>13.80</td>\n",
       "      <td>69.1</td>\n",
       "      <td>1.92</td>\n",
       "      <td>5840</td>\n",
       "      <td>0.009</td>\n",
       "      <td>0.035</td>\n",
       "    </tr>\n",
       "  </tbody>\n",
       "</table>\n",
       "</div>"
      ],
      "text/plain": [
       "       country  child_mort  exports  health  imports  income  inflation  \\\n",
       "0  Afghanistan        90.2     10.0    7.58     44.9    1610       9.44   \n",
       "1      Albania        16.6     28.0    6.55     48.6    9930       4.49   \n",
       "2      Algeria        27.3     38.4    4.17     31.4   12900      16.10   \n",
       "3      Armenia        18.1     20.8    4.40     45.3    6700       7.77   \n",
       "4   Azerbaijan        39.2     54.3    5.88     20.7   16000      13.80   \n",
       "\n",
       "   life_expec  total_fer  gdpp  mpi_urban  mpi_rural  \n",
       "0        56.2       5.82   553      0.132      0.347  \n",
       "1        76.3       1.65  4090      0.003      0.007  \n",
       "2        76.5       2.89  4460      0.003      0.011  \n",
       "3        73.3       1.69  3220      0.001      0.001  \n",
       "4        69.1       1.92  5840      0.009      0.035  "
      ]
     },
     "execution_count": 26,
     "metadata": {},
     "output_type": "execute_result"
    }
   ],
   "source": [
    "my_mpi_ds = my_mpi_ds.drop(['ISO','Headcount Ratio Urban','Intensity of Deprivation Urban',\n",
    "                            'Headcount Ratio Rural','Intensity of Deprivation Rural'], axis=1)\n",
    "\n",
    "my_mpi_ds.rename(columns={'Country':'country', 'MPI Urban':'mpi_urban', 'MPI Rural':'mpi_rural'}, inplace=True)\n",
    "\n",
    "my_mpi_ds.head(3)\n",
    "\n",
    "combined = pd.merge(\n",
    "    Pov_data,\n",
    "    my_mpi_ds,\n",
    "    on='country',\n",
    "    how='inner'\n",
    ")\n",
    "\n",
    "combined.head()"
   ]
  },
  {
   "cell_type": "code",
   "execution_count": 27,
   "id": "f8dddd00",
   "metadata": {},
   "outputs": [],
   "source": [
    "reg = linear_model.LinearRegression()\n",
    "\n",
    "import statsmodels.api as sm\n",
    "from statsmodels.formula.api import ols"
   ]
  },
  {
   "cell_type": "code",
   "execution_count": 28,
   "id": "a6217b04",
   "metadata": {
    "scrolled": true
   },
   "outputs": [
    {
     "name": "stdout",
     "output_type": "stream",
     "text": [
      "                            OLS Regression Results                            \n",
      "==============================================================================\n",
      "Dep. Variable:              mpi_urban   R-squared:                       0.680\n",
      "Model:                            OLS   Adj. R-squared:                  0.676\n",
      "Method:                 Least Squares   F-statistic:                     163.5\n",
      "Date:                Wed, 13 Apr 2022   Prob (F-statistic):           9.91e-21\n",
      "Time:                        20:30:04   Log-Likelihood:                 127.06\n",
      "No. Observations:                  79   AIC:                            -250.1\n",
      "Df Residuals:                      77   BIC:                            -245.4\n",
      "Df Model:                           1                                         \n",
      "Covariance Type:            nonrobust                                         \n",
      "==============================================================================\n",
      "                 coef    std err          t      P>|t|      [0.025      0.975]\n",
      "------------------------------------------------------------------------------\n",
      "Intercept     -0.0230      0.010     -2.388      0.019      -0.042      -0.004\n",
      "child_mort     0.0017      0.000     12.786      0.000       0.001       0.002\n",
      "==============================================================================\n",
      "Omnibus:                       17.128   Durbin-Watson:                   2.167\n",
      "Prob(Omnibus):                  0.000   Jarque-Bera (JB):               78.736\n",
      "Skew:                          -0.262   Prob(JB):                     7.99e-18\n",
      "Kurtosis:                       7.863   Cond. No.                         130.\n",
      "==============================================================================\n",
      "\n",
      "Notes:\n",
      "[1] Standard Errors assume that the covariance matrix of the errors is correctly specified.\n"
     ]
    },
    {
     "data": {
      "image/png": "[encoded data removed]",
      "text/plain": [
       "<Figure size 864x576 with 4 Axes>"
      ]
     },
     "metadata": {
      "needs_background": "light"
     },
     "output_type": "display_data"
    }
   ],
   "source": [
    "model = ols('mpi_urban ~ child_mort', data=combined).fit()\n",
    "\n",
    "print(model.summary())\n",
    "\n",
    "fig = plt.figure(figsize=(12,8))\n",
    "\n",
    "fig = sm.graphics.plot_regress_exog(model,'child_mort',fig=fig)"
   ]
  },
  {
   "cell_type": "code",
   "execution_count": 29,
   "id": "edc1ae6d",
   "metadata": {},
   "outputs": [
    {
     "data": {
      "text/plain": [
       "LinearRegression()"
      ]
     },
     "execution_count": 29,
     "metadata": {},
     "output_type": "execute_result"
    }
   ],
   "source": [
    "reg.fit(combined[['child_mort','exports','health','imports','income',\n",
    "                  'inflation','life_expec','total_fer','gdpp']],combined.mpi_urban)"
   ]
  },
  {
   "cell_type": "code",
   "execution_count": 30,
   "id": "f02e69ce",
   "metadata": {},
   "outputs": [
    {
     "data": {
      "text/plain": [
       "0.8348816614462782"
      ]
     },
     "execution_count": 30,
     "metadata": {},
     "output_type": "execute_result"
    }
   ],
   "source": [
    "reg.score(combined[['child_mort','exports','health','imports','income'\n",
    "                    ,'inflation','life_expec','total_fer','gdpp']],combined.mpi_urban)"
   ]
  },
  {
   "cell_type": "code",
   "execution_count": 31,
   "id": "8926933f",
   "metadata": {},
   "outputs": [
    {
     "data": {
      "text/plain": [
       "0.8133444868523144"
      ]
     },
     "execution_count": 31,
     "metadata": {},
     "output_type": "execute_result"
    }
   ],
   "source": [
    "1- (1-reg.score(combined[['child_mort','exports','health','imports','income',\n",
    "                          'inflation','life_expec','total_fer','gdpp']],combined.mpi_urban))*(len(combined.mpi_urban)-1)/(len(combined.mpi_urban)-combined[['child_mort','exports','health','imports','income','inflation','life_expec','total_fer','gdpp']].shape[1]-1)"
   ]
  },
  {
   "cell_type": "code",
   "execution_count": 32,
   "id": "e6dc78a6",
   "metadata": {
    "scrolled": true
   },
   "outputs": [
    {
     "name": "stdout",
     "output_type": "stream",
     "text": [
      "                            OLS Regression Results                            \n",
      "==============================================================================\n",
      "Dep. Variable:              mpi_urban   R-squared:                       0.835\n",
      "Model:                            OLS   Adj. R-squared:                  0.813\n",
      "Method:                 Least Squares   F-statistic:                     38.76\n",
      "Date:                Wed, 13 Apr 2022   Prob (F-statistic):           1.45e-23\n",
      "Time:                        20:30:22   Log-Likelihood:                 153.21\n",
      "No. Observations:                  79   AIC:                            -286.4\n",
      "Df Residuals:                      69   BIC:                            -262.7\n",
      "Df Model:                           9                                         \n",
      "Covariance Type:            nonrobust                                         \n",
      "==============================================================================\n",
      "                 coef    std err          t      P>|t|      [0.025      0.975]\n",
      "------------------------------------------------------------------------------\n",
      "Intercept     -0.2707      0.082     -3.300      0.002      -0.434      -0.107\n",
      "child_mort     0.0013      0.000      5.061      0.000       0.001       0.002\n",
      "exports       -0.0002      0.000     -0.471      0.639      -0.001       0.001\n",
      "health         0.0038      0.002      1.685      0.097      -0.001       0.008\n",
      "imports    -7.742e-05      0.000     -0.216      0.830      -0.001       0.001\n",
      "income     -1.822e-06    2.5e-06     -0.730      0.468    -6.8e-06    3.16e-06\n",
      "inflation     -0.0007      0.000     -2.070      0.042      -0.001   -2.68e-05\n",
      "life_expec     0.0026      0.001      2.598      0.011       0.001       0.005\n",
      "total_fer      0.0273      0.005      5.600      0.000       0.018       0.037\n",
      "gdpp         1.51e-06   3.29e-06      0.460      0.647   -5.04e-06    8.06e-06\n",
      "==============================================================================\n",
      "Omnibus:                       15.533   Durbin-Watson:                   2.027\n",
      "Prob(Omnibus):                  0.000   Jarque-Bera (JB):               23.219\n",
      "Skew:                           0.796   Prob(JB):                     9.08e-06\n",
      "Kurtosis:                       5.126   Cond. No.                     1.70e+05\n",
      "==============================================================================\n",
      "\n",
      "Notes:\n",
      "[1] Standard Errors assume that the covariance matrix of the errors is correctly specified.\n",
      "[2] The condition number is large, 1.7e+05. This might indicate that there are\n",
      "strong multicollinearity or other numerical problems.\n"
     ]
    }
   ],
   "source": [
    "Model1 = ols('mpi_urban ~ child_mort+exports+health+imports+income+inflation+life_expec+total_fer+gdpp',\n",
    "             data=combined).fit()\n",
    "print(Model1.summary())"
   ]
  },
  {
   "cell_type": "code",
   "execution_count": 33,
   "id": "532e717a",
   "metadata": {
    "scrolled": true
   },
   "outputs": [
    {
     "name": "stdout",
     "output_type": "stream",
     "text": [
      "                            OLS Regression Results                            \n",
      "==============================================================================\n",
      "Dep. Variable:              mpi_urban   R-squared:                       0.381\n",
      "Model:                            OLS   Adj. R-squared:                  0.338\n",
      "Method:                 Least Squares   F-statistic:                     8.981\n",
      "Date:                Wed, 13 Apr 2022   Prob (F-statistic):           1.10e-06\n",
      "Time:                        20:30:39   Log-Likelihood:                 101.01\n",
      "No. Observations:                  79   AIC:                            -190.0\n",
      "Df Residuals:                      73   BIC:                            -175.8\n",
      "Df Model:                           5                                         \n",
      "Covariance Type:            nonrobust                                         \n",
      "==============================================================================\n",
      "                 coef    std err          t      P>|t|      [0.025      0.975]\n",
      "------------------------------------------------------------------------------\n",
      "Intercept      0.1184      0.032      3.735      0.000       0.055       0.182\n",
      "exports       -0.0006      0.001     -0.840      0.403      -0.002       0.001\n",
      "health         0.0071      0.004      1.743      0.085      -0.001       0.015\n",
      "imports       -0.0005      0.001     -0.733      0.466      -0.002       0.001\n",
      "inflation   8.598e-05      0.001      0.133      0.895      -0.001       0.001\n",
      "gdpp       -1.638e-05   3.39e-06     -4.831      0.000   -2.31e-05   -9.62e-06\n",
      "==============================================================================\n",
      "Omnibus:                       21.567   Durbin-Watson:                   1.957\n",
      "Prob(Omnibus):                  0.000   Jarque-Bera (JB):               29.100\n",
      "Skew:                           1.218   Prob(JB):                     4.80e-07\n",
      "Kurtosis:                       4.704   Cond. No.                     1.65e+04\n",
      "==============================================================================\n",
      "\n",
      "Notes:\n",
      "[1] Standard Errors assume that the covariance matrix of the errors is correctly specified.\n",
      "[2] The condition number is large, 1.65e+04. This might indicate that there are\n",
      "strong multicollinearity or other numerical problems.\n"
     ]
    }
   ],
   "source": [
    "#TO DO 1\n",
    "#从lab4 TO DO 2的热力图中可以看出，child_mort total_fer income total_fer和mpi_urban比率之间的相关性较高，为0.82和0.85，\n",
    "#即存在很强的多重共线性\n",
    "#在进行分析时可以考虑剔除这两个变量，以免导致因多重共线性（multicollinearity and heteroscedasticity）造成的过拟合\n",
    "model2 = ols('mpi_urban ~ exports+health+imports+inflation+gdpp',data=combined).fit()\n",
    "\n",
    "print(model2.summary())\n",
    "#R^2 = 0.381 Ajd R-squared = 0.338"
   ]
  },
  {
   "cell_type": "code",
   "execution_count": 34,
   "id": "2e7ad32b",
   "metadata": {
    "scrolled": true
   },
   "outputs": [
    {
     "name": "stdout",
     "output_type": "stream",
     "text": [
      "                            OLS Regression Results                            \n",
      "==============================================================================\n",
      "Dep. Variable:              mpi_urban   R-squared:                       0.809\n",
      "Model:                            OLS   Adj. R-squared:                  0.798\n",
      "Method:                 Least Squares   F-statistic:                     78.19\n",
      "Date:                Wed, 13 Apr 2022   Prob (F-statistic):           8.25e-26\n",
      "Time:                        20:30:51   Log-Likelihood:                 147.39\n",
      "No. Observations:                  79   AIC:                            -284.8\n",
      "Df Residuals:                      74   BIC:                            -272.9\n",
      "Df Model:                           4                                         \n",
      "Covariance Type:            nonrobust                                         \n",
      "==============================================================================\n",
      "                 coef    std err          t      P>|t|      [0.025      0.975]\n",
      "------------------------------------------------------------------------------\n",
      "Intercept     -0.2219      0.077     -2.869      0.005      -0.376      -0.068\n",
      "child_mort     0.0011      0.000      4.570      0.000       0.001       0.002\n",
      "income     -1.658e-06   1.35e-06     -1.229      0.223   -4.35e-06    1.03e-06\n",
      "life_expec     0.0022      0.001      2.147      0.035       0.000       0.004\n",
      "total_fer      0.0268      0.005      5.619      0.000       0.017       0.036\n",
      "==============================================================================\n",
      "Omnibus:                       17.861   Durbin-Watson:                   1.906\n",
      "Prob(Omnibus):                  0.000   Jarque-Bera (JB):               28.412\n",
      "Skew:                           0.885   Prob(JB):                     6.77e-07\n",
      "Kurtosis:                       5.345   Cond. No.                     1.37e+05\n",
      "==============================================================================\n",
      "\n",
      "Notes:\n",
      "[1] Standard Errors assume that the covariance matrix of the errors is correctly specified.\n",
      "[2] The condition number is large, 1.37e+05. This might indicate that there are\n",
      "strong multicollinearity or other numerical problems.\n"
     ]
    }
   ],
   "source": [
    "#TO DO 2\n",
    "#因为\n",
    "model3 = ols('mpi_urban ~ child_mort+income+life_expec+total_fer',data=combined).fit()\n",
    "\n",
    "print(model3.summary())\n",
    "#R^2 = 0.809 Ajd R-squared = 0.798"
   ]
  },
  {
   "cell_type": "code",
   "execution_count": null,
   "id": "960a8e3f",
   "metadata": {},
   "outputs": [],
   "source": [
    "#TO DO 3\n",
    "#the model 1 will be more suitable for predicting the mpi_urban, \n",
    "#because the model 3 has already ignore all the low features and effect the result and the model 2 has remove all the \n",
    "#high features with multicollinearity and heteroscedasticity it will also affect the result because of the lower R-squared and adj R-squared\n",
    "# the model 1 it has the highest R-squared and adj R-squared than model 3"
   ]
  }
 ],
 "metadata": {
  "kernelspec": {
   "display_name": "Python 3 (ipykernel)",
   "language": "python",
   "name": "python3"
  },
  "language_info": {
   "codemirror_mode": {
    "name": "ipython",
    "version": 3
   },
   "file_extension": ".py",
   "mimetype": "text/x-python",
   "name": "python",
   "nbconvert_exporter": "python",
   "pygments_lexer": "ipython3",
   "version": "3.9.7"
  }
 },
 "nbformat": 4,
 "nbformat_minor": 5
}
