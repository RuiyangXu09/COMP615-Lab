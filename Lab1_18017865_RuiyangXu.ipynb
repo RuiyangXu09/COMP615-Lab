{
 "cells": [
  {
   "cell_type": "code",
   "execution_count": 5,
   "id": "cd40c881",
   "metadata": {},
   "outputs": [
    {
     "name": "stdout",
     "output_type": "stream",
     "text": [
      "Please input integer: 2000\n",
      "fib limit 2000\n",
      "0 1 2 4 8 16 32 64 128 256 512 1024 "
     ]
    }
   ],
   "source": [
    "##定义斐波那契数列变种\n",
    "def fib(numMax):\n",
    "    a = 0;\n",
    "    b = 1;\n",
    "    while a < numMax:\n",
    "        print(a, end = ' ');\n",
    "        a = b;\n",
    "        b = a + b;\n",
    "'''\n",
    "定义斐波那契数列\n",
    "def fib(numMax):\n",
    "    a = 1;\n",
    "    b = 1;\n",
    "    while a < numMax:\n",
    "        print(a, end = ' ');\n",
    "        a, b = a, a + b;\n",
    "'''\n",
    "fiboNum = int(input(\"Please input integer: \"));\n",
    "\n",
    "##判断输入的数字是否小于0，并且以该输入的数字作为斐波那契数列输出数字限制\n",
    "if fiboNum <= 0:\n",
    "    print(\"Wrong number, positive integer\");\n",
    "else:\n",
    "    print(\"fib limit \" + str(fiboNum));\n",
    "\n",
    "fib(fiboNum);"
   ]
  },
  {
   "cell_type": "code",
   "execution_count": 3,
   "id": "331b7300",
   "metadata": {},
   "outputs": [
    {
     "name": "stdout",
     "output_type": "stream",
     "text": [
      "[5, 6, 2, 0, 8, 0]\n",
      "please input a number 7\n",
      "Not found\n"
     ]
    }
   ],
   "source": [
    "##test_list = [1,3,44,9,17,19,20,25,10,66,69,99,54]\n",
    "\n",
    "## 创建一个随机数列表\n",
    "import random  \n",
    "randomList = [];\n",
    "\n",
    "##创建15个数字，for循环6次，每次循环随机得到的数字存入数组\n",
    "for i in range (0,6):\n",
    "    ##使用了 random 模块的 randint() 函数来生成随机数，每次执行后都返回不同的数字（0-10）\n",
    "    listLimit = random.randint(0, 10)\n",
    "    randomList.append(listLimit);\n",
    "\n",
    "##打印数组\n",
    "print(randomList);\n",
    "\n",
    "testNumber = int(input(\"please input a number \"))\n",
    "\n",
    "##定义一个方法，判断测试的数字是否存在于随机生成数字的列表中 注意 必须def了一个方法，才能使用return\n",
    "def test(TestNumber):\n",
    "    if (testNumber in randomList):\n",
    "        return \"Found\"\n",
    "    else:\n",
    "        return \"Not found\"\n",
    "    \n",
    "print(test(testNumber))"
   ]
  }
 ],
 "metadata": {
  "kernelspec": {
   "display_name": "Python 3 (ipykernel)",
   "language": "python",
   "name": "python3"
  },
  "language_info": {
   "codemirror_mode": {
    "name": "ipython",
    "version": 3
   },
   "file_extension": ".py",
   "mimetype": "text/x-python",
   "name": "python",
   "nbconvert_exporter": "python",
   "pygments_lexer": "ipython3",
   "version": "3.9.7"
  }
 },
 "nbformat": 4,
 "nbformat_minor": 5
}
