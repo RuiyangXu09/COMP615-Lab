{
 "cells": [
  {
   "cell_type": "code",
   "execution_count": 1,
   "id": "cb8abcc7",
   "metadata": {},
   "outputs": [],
   "source": [
    "#import pandas\n",
    "import pandas as pd\n",
    "#import numpy\n",
    "import numpy as np\n",
    "import itertools\n",
    "\n",
    "from numpy import mean\n",
    "from numpy import std\n",
    "import matplotlib.pyplot as plt\n",
    "import seaborn as sns\n",
    "from sklearn.preprocessing import LabelEncoder\n",
    "from sklearn.preprocessing import StandardScaler\n",
    "from sklearn.model_selection import train_test_split\n",
    "from sklearn.model_selection import StratifiedKFold\n",
    "from sklearn.metrics import accuracy_score\n",
    "\n",
    "from sklearn.neural_network import MLPClassifier\n",
    "from sklearn.metrics import accuracy_score, confusion_matrix, roc_curve, roc_auc_score, classification_report\n",
    "\n",
    "import warnings\n",
    "warnings.filterwarnings('ignore')"
   ]
  },
  {
   "cell_type": "code",
   "execution_count": 2,
   "id": "2413b7f1",
   "metadata": {},
   "outputs": [
    {
     "data": {
      "text/html": [
       "<div>\n",
       "<style scoped>\n",
       "    .dataframe tbody tr th:only-of-type {\n",
       "        vertical-align: middle;\n",
       "    }\n",
       "\n",
       "    .dataframe tbody tr th {\n",
       "        vertical-align: top;\n",
       "    }\n",
       "\n",
       "    .dataframe thead th {\n",
       "        text-align: right;\n",
       "    }\n",
       "</style>\n",
       "<table border=\"1\" class=\"dataframe\">\n",
       "  <thead>\n",
       "    <tr style=\"text-align: right;\">\n",
       "      <th></th>\n",
       "      <th>id</th>\n",
       "      <th>radius_mean</th>\n",
       "      <th>texture_mean</th>\n",
       "      <th>perimeter_mean</th>\n",
       "      <th>area_mean</th>\n",
       "      <th>smoothness_mean</th>\n",
       "      <th>compactness_mean</th>\n",
       "      <th>concavity_mean</th>\n",
       "      <th>concave points_mean</th>\n",
       "      <th>symmetry_mean</th>\n",
       "      <th>...</th>\n",
       "      <th>texture_worst</th>\n",
       "      <th>perimeter_worst</th>\n",
       "      <th>area_worst</th>\n",
       "      <th>smoothness_worst</th>\n",
       "      <th>compactness_worst</th>\n",
       "      <th>concavity_worst</th>\n",
       "      <th>concave points_worst</th>\n",
       "      <th>symmetry_worst</th>\n",
       "      <th>fractal_dimension_worst</th>\n",
       "      <th>diagnosis</th>\n",
       "    </tr>\n",
       "  </thead>\n",
       "  <tbody>\n",
       "    <tr>\n",
       "      <th>0</th>\n",
       "      <td>842302</td>\n",
       "      <td>17.99</td>\n",
       "      <td>10.38</td>\n",
       "      <td>122.80</td>\n",
       "      <td>1001.0</td>\n",
       "      <td>0.11840</td>\n",
       "      <td>0.27760</td>\n",
       "      <td>0.3001</td>\n",
       "      <td>0.14710</td>\n",
       "      <td>0.2419</td>\n",
       "      <td>...</td>\n",
       "      <td>17.33</td>\n",
       "      <td>184.60</td>\n",
       "      <td>2019.0</td>\n",
       "      <td>0.1622</td>\n",
       "      <td>0.6656</td>\n",
       "      <td>0.7119</td>\n",
       "      <td>0.2654</td>\n",
       "      <td>0.4601</td>\n",
       "      <td>0.11890</td>\n",
       "      <td>M</td>\n",
       "    </tr>\n",
       "    <tr>\n",
       "      <th>1</th>\n",
       "      <td>842517</td>\n",
       "      <td>20.57</td>\n",
       "      <td>17.77</td>\n",
       "      <td>132.90</td>\n",
       "      <td>1326.0</td>\n",
       "      <td>0.08474</td>\n",
       "      <td>0.07864</td>\n",
       "      <td>0.0869</td>\n",
       "      <td>0.07017</td>\n",
       "      <td>0.1812</td>\n",
       "      <td>...</td>\n",
       "      <td>23.41</td>\n",
       "      <td>158.80</td>\n",
       "      <td>1956.0</td>\n",
       "      <td>0.1238</td>\n",
       "      <td>0.1866</td>\n",
       "      <td>0.2416</td>\n",
       "      <td>0.1860</td>\n",
       "      <td>0.2750</td>\n",
       "      <td>0.08902</td>\n",
       "      <td>M</td>\n",
       "    </tr>\n",
       "    <tr>\n",
       "      <th>2</th>\n",
       "      <td>84300903</td>\n",
       "      <td>19.69</td>\n",
       "      <td>21.25</td>\n",
       "      <td>130.00</td>\n",
       "      <td>1203.0</td>\n",
       "      <td>0.10960</td>\n",
       "      <td>0.15990</td>\n",
       "      <td>0.1974</td>\n",
       "      <td>0.12790</td>\n",
       "      <td>0.2069</td>\n",
       "      <td>...</td>\n",
       "      <td>25.53</td>\n",
       "      <td>152.50</td>\n",
       "      <td>1709.0</td>\n",
       "      <td>0.1444</td>\n",
       "      <td>0.4245</td>\n",
       "      <td>0.4504</td>\n",
       "      <td>0.2430</td>\n",
       "      <td>0.3613</td>\n",
       "      <td>0.08758</td>\n",
       "      <td>M</td>\n",
       "    </tr>\n",
       "    <tr>\n",
       "      <th>3</th>\n",
       "      <td>84348301</td>\n",
       "      <td>11.42</td>\n",
       "      <td>20.38</td>\n",
       "      <td>77.58</td>\n",
       "      <td>386.1</td>\n",
       "      <td>0.14250</td>\n",
       "      <td>0.28390</td>\n",
       "      <td>0.2414</td>\n",
       "      <td>0.10520</td>\n",
       "      <td>0.2597</td>\n",
       "      <td>...</td>\n",
       "      <td>26.50</td>\n",
       "      <td>98.87</td>\n",
       "      <td>567.7</td>\n",
       "      <td>0.2098</td>\n",
       "      <td>0.8663</td>\n",
       "      <td>0.6869</td>\n",
       "      <td>0.2575</td>\n",
       "      <td>0.6638</td>\n",
       "      <td>0.17300</td>\n",
       "      <td>M</td>\n",
       "    </tr>\n",
       "    <tr>\n",
       "      <th>4</th>\n",
       "      <td>84358402</td>\n",
       "      <td>20.29</td>\n",
       "      <td>14.34</td>\n",
       "      <td>135.10</td>\n",
       "      <td>1297.0</td>\n",
       "      <td>0.10030</td>\n",
       "      <td>0.13280</td>\n",
       "      <td>0.1980</td>\n",
       "      <td>0.10430</td>\n",
       "      <td>0.1809</td>\n",
       "      <td>...</td>\n",
       "      <td>16.67</td>\n",
       "      <td>152.20</td>\n",
       "      <td>1575.0</td>\n",
       "      <td>0.1374</td>\n",
       "      <td>0.2050</td>\n",
       "      <td>0.4000</td>\n",
       "      <td>0.1625</td>\n",
       "      <td>0.2364</td>\n",
       "      <td>0.07678</td>\n",
       "      <td>M</td>\n",
       "    </tr>\n",
       "  </tbody>\n",
       "</table>\n",
       "<p>5 rows × 32 columns</p>\n",
       "</div>"
      ],
      "text/plain": [
       "         id  radius_mean  texture_mean  perimeter_mean  area_mean  \\\n",
       "0    842302        17.99         10.38          122.80     1001.0   \n",
       "1    842517        20.57         17.77          132.90     1326.0   \n",
       "2  84300903        19.69         21.25          130.00     1203.0   \n",
       "3  84348301        11.42         20.38           77.58      386.1   \n",
       "4  84358402        20.29         14.34          135.10     1297.0   \n",
       "\n",
       "   smoothness_mean  compactness_mean  concavity_mean  concave points_mean  \\\n",
       "0          0.11840           0.27760          0.3001              0.14710   \n",
       "1          0.08474           0.07864          0.0869              0.07017   \n",
       "2          0.10960           0.15990          0.1974              0.12790   \n",
       "3          0.14250           0.28390          0.2414              0.10520   \n",
       "4          0.10030           0.13280          0.1980              0.10430   \n",
       "\n",
       "   symmetry_mean  ...  texture_worst  perimeter_worst  area_worst  \\\n",
       "0         0.2419  ...          17.33           184.60      2019.0   \n",
       "1         0.1812  ...          23.41           158.80      1956.0   \n",
       "2         0.2069  ...          25.53           152.50      1709.0   \n",
       "3         0.2597  ...          26.50            98.87       567.7   \n",
       "4         0.1809  ...          16.67           152.20      1575.0   \n",
       "\n",
       "   smoothness_worst  compactness_worst  concavity_worst  concave points_worst  \\\n",
       "0            0.1622             0.6656           0.7119                0.2654   \n",
       "1            0.1238             0.1866           0.2416                0.1860   \n",
       "2            0.1444             0.4245           0.4504                0.2430   \n",
       "3            0.2098             0.8663           0.6869                0.2575   \n",
       "4            0.1374             0.2050           0.4000                0.1625   \n",
       "\n",
       "   symmetry_worst  fractal_dimension_worst  diagnosis  \n",
       "0          0.4601                  0.11890          M  \n",
       "1          0.2750                  0.08902          M  \n",
       "2          0.3613                  0.08758          M  \n",
       "3          0.6638                  0.17300          M  \n",
       "4          0.2364                  0.07678          M  \n",
       "\n",
       "[5 rows x 32 columns]"
      ]
     },
     "execution_count": 2,
     "metadata": {},
     "output_type": "execute_result"
    }
   ],
   "source": [
    "#Import dataset\n",
    "BC_df = pd.read_csv('Breast_cancer.csv')\n",
    "BC_df.head()"
   ]
  },
  {
   "cell_type": "code",
   "execution_count": 3,
   "id": "99d2de51",
   "metadata": {},
   "outputs": [
    {
     "name": "stdout",
     "output_type": "stream",
     "text": [
      "Cancer data set dimensions : (569, 32)\n"
     ]
    }
   ],
   "source": [
    "#Task 1.1: Check the dimension of your dataset\n",
    "print(\"Cancer data set dimensions : {}\".format(BC_df.shape))"
   ]
  },
  {
   "cell_type": "code",
   "execution_count": 4,
   "id": "266d986e",
   "metadata": {},
   "outputs": [
    {
     "data": {
      "text/plain": [
       "id                         0\n",
       "radius_mean                0\n",
       "texture_mean               0\n",
       "perimeter_mean             0\n",
       "area_mean                  0\n",
       "smoothness_mean            0\n",
       "compactness_mean           0\n",
       "concavity_mean             0\n",
       "concave points_mean        0\n",
       "symmetry_mean              0\n",
       "fractal_dimension_mean     0\n",
       "radius_se                  0\n",
       "texture_se                 0\n",
       "perimeter_se               0\n",
       "area_se                    0\n",
       "smoothness_se              0\n",
       "compactness_se             0\n",
       "concavity_se               0\n",
       "concave points_se          0\n",
       "symmetry_se                0\n",
       "fractal_dimension_se       0\n",
       "radius_worst               0\n",
       "texture_worst              0\n",
       "perimeter_worst            0\n",
       "area_worst                 0\n",
       "smoothness_worst           0\n",
       "compactness_worst          0\n",
       "concavity_worst            0\n",
       "concave points_worst       0\n",
       "symmetry_worst             0\n",
       "fractal_dimension_worst    0\n",
       "diagnosis                  0\n",
       "dtype: int64"
      ]
     },
     "execution_count": 4,
     "metadata": {},
     "output_type": "execute_result"
    }
   ],
   "source": [
    "#Task 1.3: Check for missing or Null Data points\n",
    "BC_df.isnull().sum()\n",
    "BC_df.isna().sum()"
   ]
  },
  {
   "cell_type": "code",
   "execution_count": 5,
   "id": "20c2b2ee",
   "metadata": {},
   "outputs": [
    {
     "name": "stdout",
     "output_type": "stream",
     "text": [
      "                 id  radius_mean  texture_mean  perimeter_mean    area_mean  \\\n",
      "count  5.690000e+02   569.000000    569.000000      569.000000   569.000000   \n",
      "mean   3.037183e+07    14.127292     19.289649       91.969033   654.889104   \n",
      "std    1.250206e+08     3.524049      4.301036       24.298981   351.914129   \n",
      "min    8.670000e+03     6.981000      9.710000       43.790000   143.500000   \n",
      "25%    8.692180e+05    11.700000     16.170000       75.170000   420.300000   \n",
      "50%    9.060240e+05    13.370000     18.840000       86.240000   551.100000   \n",
      "75%    8.813129e+06    15.780000     21.800000      104.100000   782.700000   \n",
      "max    9.113205e+08    28.110000     39.280000      188.500000  2501.000000   \n",
      "\n",
      "       smoothness_mean  compactness_mean  concavity_mean  concave points_mean  \\\n",
      "count       569.000000        569.000000      569.000000           569.000000   \n",
      "mean          0.096360          0.104341        0.088799             0.048919   \n",
      "std           0.014064          0.052813        0.079720             0.038803   \n",
      "min           0.052630          0.019380        0.000000             0.000000   \n",
      "25%           0.086370          0.064920        0.029560             0.020310   \n",
      "50%           0.095870          0.092630        0.061540             0.033500   \n",
      "75%           0.105300          0.130400        0.130700             0.074000   \n",
      "max           0.163400          0.345400        0.426800             0.201200   \n",
      "\n",
      "       symmetry_mean  ...  radius_worst  texture_worst  perimeter_worst  \\\n",
      "count     569.000000  ...    569.000000     569.000000       569.000000   \n",
      "mean        0.181162  ...     16.269190      25.677223       107.261213   \n",
      "std         0.027414  ...      4.833242       6.146258        33.602542   \n",
      "min         0.106000  ...      7.930000      12.020000        50.410000   \n",
      "25%         0.161900  ...     13.010000      21.080000        84.110000   \n",
      "50%         0.179200  ...     14.970000      25.410000        97.660000   \n",
      "75%         0.195700  ...     18.790000      29.720000       125.400000   \n",
      "max         0.304000  ...     36.040000      49.540000       251.200000   \n",
      "\n",
      "        area_worst  smoothness_worst  compactness_worst  concavity_worst  \\\n",
      "count   569.000000        569.000000         569.000000       569.000000   \n",
      "mean    880.583128          0.132369           0.254265         0.272188   \n",
      "std     569.356993          0.022832           0.157336         0.208624   \n",
      "min     185.200000          0.071170           0.027290         0.000000   \n",
      "25%     515.300000          0.116600           0.147200         0.114500   \n",
      "50%     686.500000          0.131300           0.211900         0.226700   \n",
      "75%    1084.000000          0.146000           0.339100         0.382900   \n",
      "max    4254.000000          0.222600           1.058000         1.252000   \n",
      "\n",
      "       concave points_worst  symmetry_worst  fractal_dimension_worst  \n",
      "count            569.000000      569.000000               569.000000  \n",
      "mean               0.114606        0.290076                 0.083946  \n",
      "std                0.065732        0.061867                 0.018061  \n",
      "min                0.000000        0.156500                 0.055040  \n",
      "25%                0.064930        0.250400                 0.071460  \n",
      "50%                0.099930        0.282200                 0.080040  \n",
      "75%                0.161400        0.317900                 0.092080  \n",
      "max                0.291000        0.663800                 0.207500  \n",
      "\n",
      "[8 rows x 31 columns]\n"
     ]
    }
   ],
   "source": [
    "# Task 1.3: show summary statistics\n",
    "print(BC_df.describe())"
   ]
  },
  {
   "cell_type": "code",
   "execution_count": 9,
   "id": "0f1ea198",
   "metadata": {},
   "outputs": [
    {
     "data": {
      "image/png": "[encoded data removed]",
      "text/plain": [
       "<Figure size 432x288 with 1 Axes>"
      ]
     },
     "metadata": {
      "needs_background": "light"
     },
     "output_type": "display_data"
    }
   ],
   "source": [
    "# Task 1.4: counting values of variables in 'diagnosis'\n",
    "ax = sns.countplot(x=\"diagnosis\", data=BC_df, palette=\"flare\")\n",
    "ax.set_title('Number of samples in each class (M:Malignant, B:Benign )', fontsize=20)\n",
    "for p in ax.patches:\n",
    "    ax.annotate(f'\\n{p.get_height()}', (p.get_x()+0.2, p.get_height()), ha='center', va='top', color='white', size=18)\n",
    "plt.show()"
   ]
  },
  {
   "cell_type": "code",
   "execution_count": null,
   "id": "d3747c3e",
   "metadata": {},
   "outputs": [],
   "source": [
    "\"\"\"\n",
    "-We can observe that the data set contain 569 rows and 32 columns. \n",
    "‘Diagnosis’ is the column which we are going to predict: the cancer is M = malignant or B = benign. 1 means the cancer is malignant and 0 means benign.\n",
    "-We can see that values vary with different means and standard deviations, perhaps some normalization or standardization \n",
    "    would be required prior to modeling.    \n",
    "-We can identify that out of the 569 persons, 357 are labeled as B (benign) and 212 as M (malignant): imbalanced data\n",
    "\"\"\""
   ]
  },
  {
   "cell_type": "code",
   "execution_count": 10,
   "id": "0befbea9",
   "metadata": {},
   "outputs": [],
   "source": [
    "# Task 1.5: Set the input (X) and output/target (y) \n",
    "X = BC_df.iloc[:, 1:31].values \n",
    "y = BC_df.iloc[:, 31].values"
   ]
  },
  {
   "cell_type": "code",
   "execution_count": 11,
   "id": "d1d066a4",
   "metadata": {},
   "outputs": [],
   "source": [
    "#2.1 Handling Target Categorical Value via Encoding\n",
    "labelencoder_y = LabelEncoder()\n",
    "y = labelencoder_y.fit_transform(y)"
   ]
  },
  {
   "cell_type": "code",
   "execution_count": 12,
   "id": "cdc6a64c",
   "metadata": {},
   "outputs": [],
   "source": [
    "#Task 3.2 Sacle data\n",
    "sc = StandardScaler()\n",
    "X = sc.fit_transform(X)\n",
    "class_names=[0,1]"
   ]
  },
  {
   "cell_type": "code",
   "execution_count": 13,
   "id": "010a2792",
   "metadata": {},
   "outputs": [
    {
     "name": "stdout",
     "output_type": "stream",
     "text": [
      "y_test set dimensions : (171,)\n"
     ]
    }
   ],
   "source": [
    "#Task 3.1: Splitting Data\n",
    "X_train, X_test, y_train, y_test = train_test_split(X, y, test_size=0.3, stratify=y, random_state=3)\n",
    "\n",
    "#print(\"X_train set dimensions : {}\".format(X_train.shape))\n",
    "#print(\"X_test set dimensions : {}\".format(X_test.shape))\n",
    "#print(\"y_train set dimensions : {}\".format(y_train.shape))\n",
    "print(\"y_test set dimensions : {}\".format(y_test.shape))"
   ]
  },
  {
   "cell_type": "code",
   "execution_count": 42,
   "id": "2b6f1f39",
   "metadata": {},
   "outputs": [],
   "source": [
    "# Task 4.1 and 4.2: Build the Model and fit to train set\n",
    "mlp = MLPClassifier(\n",
    "    max_iter=200,\n",
    "    alpha=0.1,\n",
    "    activation='logistic',\n",
    "    solver='adam')\n",
    "mlp.fit(X_train, y_train)\n",
    "mlp_predict = mlp.predict(X_test)\n",
    "#mlp_predict_proba = mlp.predict_proba(X_test)[:, 1]\n"
   ]
  },
  {
   "cell_type": "code",
   "execution_count": 46,
   "id": "f332d19c",
   "metadata": {
    "scrolled": true
   },
   "outputs": [
    {
     "data": {
      "image/png": "[encoded data removed]",
      "text/plain": [
       "<Figure size 432x288 with 1 Axes>"
      ]
     },
     "metadata": {
      "needs_background": "light"
     },
     "output_type": "display_data"
    }
   ],
   "source": [
    "# Task 4.3: Adjust the Configuration \n",
    "loss_values = mlp.loss_curve_\n",
    "plt.plot(loss_values)\n",
    "plt.show()"
   ]
  },
  {
   "cell_type": "code",
   "execution_count": 16,
   "id": "1589c250",
   "metadata": {},
   "outputs": [
    {
     "name": "stdout",
     "output_type": "stream",
     "text": [
      "MLP Accuracy: 97.66%\n",
      "MLP Classification report:\n",
      "\n",
      "               precision    recall  f1-score   support\n",
      "\n",
      "           0       0.97      0.99      0.98       107\n",
      "           1       0.98      0.95      0.97        64\n",
      "\n",
      "    accuracy                           0.98       171\n",
      "   macro avg       0.98      0.97      0.97       171\n",
      "weighted avg       0.98      0.98      0.98       171\n",
      "\n",
      "MLP Training set score: 98.74%\n",
      "MLP Testing set score: 97.66%\n"
     ]
    }
   ],
   "source": [
    "#Task 5\n",
    "print('MLP Accuracy: {:.2f}%'.format(accuracy_score(y_test, mlp_predict) * 100))\n",
    "print('MLP Classification report:\\n\\n', classification_report(y_test, mlp_predict))\n",
    "print('MLP Training set score: {:.2f}%'.format(mlp.score(X_train, y_train) * 100))\n",
    "print('MLP Testing set score: {:.2f}%'.format(mlp.score(X_test, y_test) * 100))"
   ]
  },
  {
   "cell_type": "code",
   "execution_count": 17,
   "id": "a8d11d80",
   "metadata": {},
   "outputs": [
    {
     "data": {
      "text/plain": [
       "<AxesSubplot:>"
      ]
     },
     "execution_count": 17,
     "metadata": {},
     "output_type": "execute_result"
    },
    {
     "data": {
      "image/png": "[encoded data removed]",
      "text/plain": [
       "<Figure size 432x288 with 2 Axes>"
      ]
     },
     "metadata": {
      "needs_background": "light"
     },
     "output_type": "display_data"
    }
   ],
   "source": [
    "# Task 6: Confusion Matrix for MLPClassifier using train test split\n",
    "outcome_labels = sorted(BC_df.diagnosis.unique())\n",
    "sns.heatmap(\n",
    "    confusion_matrix(y_test, mlp_predict),\n",
    "    annot=True,\n",
    "    fmt=\"d\",\n",
    "    xticklabels=outcome_labels,\n",
    "    yticklabels=outcome_labels\n",
    ")"
   ]
  },
  {
   "cell_type": "code",
   "execution_count": 18,
   "id": "1de6ea05",
   "metadata": {},
   "outputs": [
    {
     "name": "stdout",
     "output_type": "stream",
     "text": [
      "score_test: 0.982\n",
      "score_test: 1.000\n",
      "score_test: 0.965\n",
      "score_test: 0.982\n",
      "score_test: 1.000\n",
      "score_test: 0.930\n",
      "score_test: 1.000\n",
      "score_test: 0.965\n",
      "score_test: 0.982\n",
      "score_test: 0.982\n",
      "MLP Accuracy: 97.89%\n"
     ]
    }
   ],
   "source": [
    "# Task 7: prepare kfold cross validation\n",
    "kfold = StratifiedKFold(10,random_state=1, shuffle=True)\n",
    "# enumerate splits\n",
    "scores = list()\n",
    "predicted_targets = np.array([])\n",
    "actual_targets = np.array([])\n",
    "mlp_predict_proba= np.array([])\n",
    "mlp_predict = np.array([])\n",
    "X_test=np.array([])\n",
    "for train_ix, test_ix in kfold.split(X, y):\n",
    "    # split data\n",
    "    X_train, X_test, y_train, y_test = X[train_ix], X[test_ix], y[train_ix], y[test_ix]\n",
    "    # fit the model\n",
    "    mlp.fit(X_train, y_train)\n",
    "    # predict test set\n",
    "   # mlp_predict = np.append(mlp_predict,mlp.predict(X_test))\n",
    "    \n",
    "    mlp_predict = mlp.predict(X_test)\n",
    "    #mlp_predict_proba =  np.append(mlp_predict_proba,mlp.predict_proba(X_test)[:, 1])\n",
    "    predicted_targets = np.append(predicted_targets, mlp_predict)\n",
    "    actual_targets = np.append(actual_targets, y_test)\n",
    "    '''\n",
    "      # evaluate on train\n",
    "    score_train = mlp.score(X_train, y_train)\n",
    "    print('>%.3f' % score_train)\n",
    "    scores.append(score_train)\n",
    "    '''     \n",
    "    # evaluate on predictions\n",
    "    score_test = accuracy_score(y_test, mlp_predict)\n",
    "    print('score_test: %.3f' % score_test)\n",
    "    X_test.shape\n",
    "    scores.append(score_test)\n",
    "\n",
    "# summarize all scores\n",
    "print('MLP Accuracy: {:.2f}%'.format(accuracy_score(actual_targets, predicted_targets) * 100))\n",
    "#print('Mean Testing set Accuracy: %.3f (%.3f)' % (mean(score_test), std(score_test)))\n",
    "#print('Mean Train set Accuracy: %.3f (%.3f)' % (mean(score_train), std(score_train)))"
   ]
  },
  {
   "cell_type": "code",
   "execution_count": 21,
   "id": "2ee13575",
   "metadata": {},
   "outputs": [],
   "source": [
    "## Task 8: Function to generate Kfold's confusion_matrix\n",
    "def generate_confusion_matrix(cnf_matrix, classes, normalize=False, title='Confusion matrix'):\n",
    "    if normalize:\n",
    "        cnf_matrix = cnf_matrix.astype('float') / cnf_matrix.sum(axis=1)[:, np.newaxis]\n",
    "        \n",
    "    plt.imshow(cnf_matrix, interpolation='nearest', cmap=plt.get_cmap('Blues'))\n",
    "    plt.title(title)\n",
    "    plt.colorbar()\n",
    "\n",
    "    tick_marks = np.arange(len(classes))\n",
    "    plt.xticks(tick_marks, classes, rotation=45)\n",
    "    plt.yticks(tick_marks, classes)\n",
    "\n",
    "    fmt = '.2f' if normalize else 'd'\n",
    "    thresh = cnf_matrix.max() / 2.\n",
    "\n",
    "    for i, j in itertools.product(range(cnf_matrix.shape[0]), range(cnf_matrix.shape[1])):\n",
    "        plt.text(j, i, format(cnf_matrix[i, j], fmt), horizontalalignment=\"center\",\n",
    "                 color=\"white\" if cnf_matrix[i, j] > thresh else \"black\")\n",
    "\n",
    "    plt.tight_layout()\n",
    "    plt.ylabel('True label')\n",
    "    plt.xlabel('Predicted label')\n",
    "\n",
    "    return cnf_matrix"
   ]
  },
  {
   "cell_type": "code",
   "execution_count": 20,
   "id": "3444d05f",
   "metadata": {},
   "outputs": [],
   "source": [
    "# Task 8: Function to plot Kfold's confusion_matrix\n",
    "def plot_confusion_matrix(predicted_labels_list, y_test_list):\n",
    "    cnf_matrix = confusion_matrix(y_test_list, predicted_labels_list)\n",
    "    np.set_printoptions(precision=2)\n",
    "\n",
    "    # Plot non-normalized confusion matrix\n",
    "    plt.figure()\n",
    "    generate_confusion_matrix(cnf_matrix, classes=class_names, title='Confusion matrix from K-fold result')\n",
    "    plt.show()"
   ]
  },
  {
   "cell_type": "code",
   "execution_count": 54,
   "id": "853b2377",
   "metadata": {
    "scrolled": true
   },
   "outputs": [
    {
     "data": {
      "image/png": "[encoded data removed]",
      "text/plain": [
       "<Figure size 432x288 with 2 Axes>"
      ]
     },
     "metadata": {
      "needs_background": "light"
     },
     "output_type": "display_data"
    }
   ],
   "source": [
    "plot_confusion_matrix(mlp_predict, y_test)"
   ]
  },
  {
   "cell_type": "code",
   "execution_count": 55,
   "id": "5355b3d5",
   "metadata": {},
   "outputs": [
    {
     "name": "stdout",
     "output_type": "stream",
     "text": [
      "MLP Accuracy: 98.214%\n",
      "MLP Classification report:\n",
      "\n",
      "               precision    recall  f1-score   support\n",
      "\n",
      "           0       1.00      0.97      0.99        35\n",
      "           1       0.95      1.00      0.98        21\n",
      "\n",
      "    accuracy                           0.98        56\n",
      "   macro avg       0.98      0.99      0.98        56\n",
      "weighted avg       0.98      0.98      0.98        56\n",
      "\n",
      "MLP Training set score: 98.635%\n",
      "MLP Testing set score: 98.214%\n"
     ]
    }
   ],
   "source": [
    "print('MLP Accuracy: {:.2f}%'.format(accuracy_score(y_test, mlp_predict) * 100))\n",
    "print('MLP Classification report:\\n\\n', classification_report(y_test, mlp_predict))\n",
    "print('MLP Training set score: {:.2f}%'.format(mlp.score(X_train, y_train) * 100))\n",
    "print('MLP Testing set score: {:.2f}%'.format(mlp.score(X_test, y_test) * 100))"
   ]
  }
 ],
 "metadata": {
  "kernelspec": {
   "display_name": "Python 3 (ipykernel)",
   "language": "python",
   "name": "python3"
  },
  "language_info": {
   "codemirror_mode": {
    "name": "ipython",
    "version": 3
   },
   "file_extension": ".py",
   "mimetype": "text/x-python",
   "name": "python",
   "nbconvert_exporter": "python",
   "pygments_lexer": "ipython3",
   "version": "3.9.7"
  }
 },
 "nbformat": 4,
 "nbformat_minor": 5
}
