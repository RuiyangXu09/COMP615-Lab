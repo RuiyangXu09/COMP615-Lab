{
 "cells": [
  {
   "cell_type": "code",
   "execution_count": 12,
   "id": "125618c4",
   "metadata": {},
   "outputs": [
    {
     "name": "stdout",
     "output_type": "stream",
     "text": [
      "[1, 6, 9, 13, 25]\n",
      "1\n",
      "25\n",
      "[9, 13, 25]\n",
      "[1, 6, 9, 13, 25, 0, 100, 531, 610]\n"
     ]
    }
   ],
   "source": [
    "squares = [1 , 6 , 9 ,13, 25];\n",
    "print(squares);\n",
    "\n",
    "print(squares[0]);   ##打印数组的1号元素\n",
    "print(squares[-1]);  ##打印数组的倒数1号元素\n",
    "print(squares[-3:]); ##打印最后3个元素"
   ]
  },
  {
   "cell_type": "code",
   "execution_count": 11,
   "id": "7055e27c",
   "metadata": {},
   "outputs": [
    {
     "name": "stdout",
     "output_type": "stream",
     "text": [
      "[1, 6, 9, 13, 25, 0, 100, 531, 610]\n"
     ]
    }
   ],
   "source": [
    "print(squares + [0, 100, 531, 610]);  ##打印数组并在数组中添加额外的元素"
   ]
  },
  {
   "cell_type": "code",
   "execution_count": 15,
   "id": "a5d444cc",
   "metadata": {},
   "outputs": [
    {
     "name": "stdout",
     "output_type": "stream",
     "text": [
      "[1, 8, 27, 64]\n"
     ]
    }
   ],
   "source": [
    "cubes = [1, 8, 27, 65,]\n",
    "cubes[3] = 4 ** 3; ##4的3次方 替换cubes数组中的4号元素\n",
    "print(cubes);"
   ]
  },
  {
   "cell_type": "code",
   "execution_count": 16,
   "id": "02a5b604",
   "metadata": {},
   "outputs": [
    {
     "name": "stdout",
     "output_type": "stream",
     "text": [
      "PyPyPython\n"
     ]
    }
   ],
   "source": [
    "print(3 * 'Py' + 'thon');"
   ]
  },
  {
   "cell_type": "code",
   "execution_count": 19,
   "id": "1d884e5b",
   "metadata": {},
   "outputs": [
    {
     "name": "stdout",
     "output_type": "stream",
     "text": [
      "P\n",
      "n\n"
     ]
    }
   ],
   "source": [
    "word = 'Python';\n",
    "print(word[0]); ##打印第0号元素\n",
    "print(word[5]);"
   ]
  },
  {
   "cell_type": "code",
   "execution_count": 27,
   "id": "cb1bc7ed",
   "metadata": {},
   "outputs": [
    {
     "name": "stdout",
     "output_type": "stream",
     "text": [
      "h\n",
      "P\n",
      "Jython\n",
      "PyPyPyPython\n"
     ]
    }
   ],
   "source": [
    "print(word[-3]); ##打印倒数第三号元素\n",
    "print(word[-6]);\n",
    "print('J' + word[1:]); ##打印J 并且链接 2号元素以后的所有元素\n",
    "print(4 * 'Py' + word[2:]); ##打印Py 4次 并且链接 3号元素以后的所有元素"
   ]
  }
 ],
 "metadata": {
  "kernelspec": {
   "display_name": "Python 3 (ipykernel)",
   "language": "python",
   "name": "python3"
  },
  "language_info": {
   "codemirror_mode": {
    "name": "ipython",
    "version": 3
   },
   "file_extension": ".py",
   "mimetype": "text/x-python",
   "name": "python",
   "nbconvert_exporter": "python",
   "pygments_lexer": "ipython3",
   "version": "3.9.7"
  }
 },
 "nbformat": 4,
 "nbformat_minor": 5
}
