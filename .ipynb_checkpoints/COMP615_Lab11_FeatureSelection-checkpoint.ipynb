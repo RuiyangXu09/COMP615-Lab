{
 "cells": [
  {
   "cell_type": "code",
   "execution_count": 1,
   "id": "9319fcb9",
   "metadata": {},
   "outputs": [],
   "source": [
    "import pandas as pd\n",
    "import numpy as np\n",
    "from sklearn.model_selection import train_test_split, cross_val_score\n",
    "from sklearn.feature_selection import SelectKBest\n",
    "from sklearn.feature_selection import chi2\n",
    "import plotly.graph_objects as pgo\n",
    "import seaborn as sns\n",
    "import matplotlib.pyplot as plt\n",
    "from sklearn.preprocessing import LabelEncoder\n",
    "import category_encoders as ce\n",
    "from sklearn.preprocessing import StandardScaler\n",
    "from sklearn.preprocessing import RobustScaler\n",
    "from sklearn.feature_selection import SelectKBest\n",
    "from sklearn.feature_selection import f_classif"
   ]
  },
  {
   "cell_type": "code",
   "execution_count": 2,
   "id": "083035aa",
   "metadata": {},
   "outputs": [
    {
     "name": "stdout",
     "output_type": "stream",
     "text": [
      "(1728, 7)\n",
      "  Buying  Maint Doors Persons Lug_boot Safety  class\n",
      "0  vhigh  vhigh     2       2    small    low  unacc\n",
      "1  vhigh  vhigh     2       2    small    med  unacc\n",
      "2  vhigh  vhigh     2       2    small   high  unacc\n",
      "3  vhigh  vhigh     2       2      med    low  unacc\n",
      "4  vhigh  vhigh     2       2      med    med  unacc\n"
     ]
    },
    {
     "data": {
      "image/png": "[encoded data removed]",
      "text/plain": [
       "<Figure size 432x288 with 1 Axes>"
      ]
     },
     "metadata": {
      "needs_background": "light"
     },
     "output_type": "display_data"
    }
   ],
   "source": [
    "#Task One \n",
    "mycar = pd.read_csv('car_evaluation.csv', header=None)\n",
    "df=mycar\n",
    "# view dimensions of dataset\n",
    "print(mycar.shape)\n",
    "# preview the dataframe\n",
    "mycar.head()\n",
    "'''\n",
    "Rename column names: give proper column name \n",
    "'''\n",
    "col_names = ['Buying', 'Maint', 'Doors', 'Persons', 'Lug_boot', 'Safety','class']\n",
    "mycar.columns = col_names\n",
    "#  preview the dataframe\n",
    "print(mycar.head())\n",
    "#Check the number of missing values\n",
    "mycar.isnull().sum()\n",
    "\n",
    "#mycar['class'].value_counts()  \n",
    "X = mycar.drop(['class'], axis=1) #input/feature vector\n",
    "y = mycar['class']#target\n",
    "\n",
    "\n",
    "# counting values of variables in 'diagnosis'\n",
    "ax = sns.countplot(x=\"class\", data=mycar, palette=\"flare\")\n",
    "ax.set_title('Number of samples in each class ', fontsize=20)\n",
    "for p in ax.patches:\n",
    "    ax.annotate(f'\\n{p.get_height()}', (p.get_x()+0.2, p.get_height()), ha='center', va='center', color='white', size=12)\n",
    "plt.show()"
   ]
  },
  {
   "cell_type": "code",
   "execution_count": 4,
   "id": "101778ae",
   "metadata": {
    "scrolled": false
   },
   "outputs": [
    {
     "name": "stdout",
     "output_type": "stream",
     "text": [
      "Persons    2    4  more\n",
      "class                  \n",
      "acc        0  198   186\n",
      "good       0   36    33\n",
      "unacc    576  312   322\n",
      "vgood      0   30    35\n",
      "Safety  high  low  med\n",
      "class                 \n",
      "acc      204    0  180\n",
      "good      30    0   39\n",
      "unacc    277  576  357\n",
      "vgood     65    0    0\n"
     ]
    },
    {
     "data": {
      "text/plain": [
       "<seaborn.axisgrid.FacetGrid at 0x22d1d8d3040>"
      ]
     },
     "execution_count": 4,
     "metadata": {},
     "output_type": "execute_result"
    },
    {
     "data": {
      "image/png": "[encoded data removed]",
      "text/plain": [
       "<Figure size 426.625x360 with 1 Axes>"
      ]
     },
     "metadata": {
      "needs_background": "light"
     },
     "output_type": "display_data"
    },
    {
     "data": {
      "image/png": "[encoded data removed]",
      "text/plain": [
       "<Figure size 426.625x360 with 1 Axes>"
      ]
     },
     "metadata": {
      "needs_background": "light"
     },
     "output_type": "display_data"
    }
   ],
   "source": [
    "#Task Two \n",
    "print(pd.crosstab(mycar['class'], mycar.Persons))\n",
    "sns.catplot(data=mycar, x='Persons', hue='class', kind=\"count\")\n",
    "# Crosstab and barplot of safety by class\n",
    "print(pd.crosstab(mycar['class'], mycar.Safety))\n",
    "sns.catplot(data=mycar, x='Safety', hue='class', kind=\"count\")"
   ]
  },
  {
   "cell_type": "code",
   "execution_count": 48,
   "id": "77e394bf",
   "metadata": {
    "scrolled": false
   },
   "outputs": [
    {
     "name": "stdout",
     "output_type": "stream",
     "text": [
      "Buying  high  low  med  vhigh\n",
      "class                        \n",
      "acc      108   89  115     72\n",
      "good       0   46   23      0\n",
      "unacc    324  258  268    360\n",
      "vgood      0   39   26      0\n",
      "----------------------------------\n",
      "Maint  high  low  med  vhigh\n",
      "class                       \n",
      "acc     105   92  115     72\n",
      "good      0   46   23      0\n",
      "unacc   314  268  268    360\n",
      "vgood    13   26   26      0\n",
      "----------------------------------\n",
      "Doors    2    3    4  5more\n",
      "class                      \n",
      "acc     81   99  102    102\n",
      "good    15   18   18     18\n",
      "unacc  326  300  292    292\n",
      "vgood   10   15   20     20\n",
      "----------------------------------\n",
      "Lug_boot  big  med  small\n",
      "class                    \n",
      "acc       144  135    105\n",
      "good       24   24     21\n",
      "unacc     368  392    450\n",
      "vgood      40   25      0\n"
     ]
    },
    {
     "data": {
      "text/plain": [
       "<seaborn.axisgrid.FacetGrid at 0x22d269495b0>"
      ]
     },
     "execution_count": 48,
     "metadata": {},
     "output_type": "execute_result"
    },
    {
     "data": {
      "image/png": "[encoded data removed]",
      "text/plain": [
       "<Figure size 426.625x360 with 1 Axes>"
      ]
     },
     "metadata": {
      "needs_background": "light"
     },
     "output_type": "display_data"
    },
    {
     "data": {
      "image/png": "[encoded data removed]",
      "text/plain": [
       "<Figure size 426.625x360 with 1 Axes>"
      ]
     },
     "metadata": {
      "needs_background": "light"
     },
     "output_type": "display_data"
    },
    {
     "data": {
      "image/png": "[encoded data removed]",
      "text/plain": [
       "<Figure size 426.625x360 with 1 Axes>"
      ]
     },
     "metadata": {
      "needs_background": "light"
     },
     "output_type": "display_data"
    },
    {
     "data": {
      "image/png": "[encoded data removed]",
      "text/plain": [
       "<Figure size 426.625x360 with 1 Axes>"
      ]
     },
     "metadata": {
      "needs_background": "light"
     },
     "output_type": "display_data"
    }
   ],
   "source": [
    "#Q1\n",
    "print(pd.crosstab(mycar['class'], mycar.Buying))\n",
    "sns.catplot(data=mycar, x='Buying', hue='class', kind=\"count\")\n",
    "print(\"----------------------------------\")\n",
    "print(pd.crosstab(mycar['class'], mycar.Maint))\n",
    "sns.catplot(data=mycar, x='Maint', hue='class', kind=\"count\")\n",
    "print(\"----------------------------------\")\n",
    "print(pd.crosstab(mycar['class'], mycar.Doors))\n",
    "sns.catplot(data=mycar, x='Doors', hue='class', kind=\"count\")\n",
    "print(\"----------------------------------\")\n",
    "print(pd.crosstab(mycar['class'], mycar.Lug_boot))\n",
    "sns.catplot(data=mycar, x='Lug_boot', hue='class', kind=\"count\")"
   ]
  },
  {
   "cell_type": "code",
   "execution_count": 61,
   "id": "3bf22489",
   "metadata": {},
   "outputs": [],
   "source": [
    "#Task 3\n",
    "# Subset dataset into input and output attributes\n",
    "X = mycar[['Buying', 'Maint', 'Doors', 'Persons', 'Lug_boot', 'Safety']]\n",
    "y = mycar[['class']]\n",
    "nrows, ncols = mycar.shape\n",
    "\n",
    "encoder = ce.OrdinalEncoder(cols=['Buying', 'Maint', 'Doors', 'Persons', 'Lug_boot', 'Safety'])\n",
    "X_enc = encoder.fit_transform(X)\n",
    "\n",
    "# Split data into test and train sets\n",
    "X_train, X_test, y_train, y_test = train_test_split(X_enc, y, test_size=0.3, random_state=2)"
   ]
  },
  {
   "cell_type": "code",
   "execution_count": 62,
   "id": "869a6016",
   "metadata": {},
   "outputs": [
    {
     "name": "stdout",
     "output_type": "stream",
     "text": [
      "Feature scores using Chi-square:  \n",
      "\n",
      "Feature 0: 60.063675\n",
      "Feature 1: 41.732166\n",
      "Feature 2: 5.244350\n",
      "Feature 3: 61.823048\n",
      "Feature 4: 12.822208\n",
      "Feature 5: 97.982738\n"
     ]
    },
    {
     "data": {
      "text/plain": [
       "<BarContainer object of 6 artists>"
      ]
     },
     "execution_count": 62,
     "metadata": {},
     "output_type": "execute_result"
    },
    {
     "data": {
      "image/png": "[encoded data removed]",
      "text/plain": [
       "<Figure size 432x288 with 1 Axes>"
      ]
     },
     "metadata": {
      "needs_background": "light"
     },
     "output_type": "display_data"
    }
   ],
   "source": [
    "#Task 4\n",
    "# Chi-squared feature selection\n",
    "fs = SelectKBest(score_func=chi2, k='all')\n",
    "fs.fit(X_train, y_train)\n",
    "X_train_fs = fs.transform(X_train)\n",
    "X_test_fs = fs.transform(X_test)\n",
    "\n",
    "# Scores for each feature\n",
    "print('Feature scores using Chi-square: ','\\n')\n",
    "for i in range(len(fs.scores_)):\n",
    "    print('Feature %d: %f' % (i, fs.scores_[i]))\n",
    "# Plot scores\n",
    "labels = ['Buying', 'Maint', 'Doors', 'Persons', 'Lug_boot', 'Safety']\n",
    "fig, ax = plt.subplots()\n",
    "ax.set_xlabel(\"Features\")\n",
    "ax.set_ylabel(\"Chi-Square Scores\")\n",
    "ax.set_title(\"Chi-Squared Feature Selection \")\n",
    "plt.bar([i for i in range(len(fs.scores_))], fs.scores_,tick_label=labels)"
   ]
  },
  {
   "cell_type": "code",
   "execution_count": 16,
   "id": "9dfb690c",
   "metadata": {},
   "outputs": [
    {
     "name": "stdout",
     "output_type": "stream",
     "text": [
      "Cancer data set dimensions : (569, 32)\n"
     ]
    },
    {
     "data": {
      "image/png": "[encoded data removed]",
      "text/plain": [
       "<Figure size 432x288 with 1 Axes>"
      ]
     },
     "metadata": {
      "needs_background": "light"
     },
     "output_type": "display_data"
    }
   ],
   "source": [
    "#Task 5 Data import and Exploartion\n",
    "#Import dataset\n",
    "BC_df = pd.read_csv('breast_cancer.csv')\n",
    "BC_df.head()\n",
    "print(\"Cancer data set dimensions : {}\".format(BC_df.shape))\n",
    "\n",
    "#Missing or Null Data points\n",
    "BC_df.isnull().sum()\n",
    "BC_df.isna().sum()\n",
    "\n",
    "# show summary statistics\n",
    "#print(BC_df.describe())\n",
    "\n",
    "# counting values of variables in 'diagnosis'\n",
    "ax = sns.countplot(x=\"diagnosis\", data=BC_df, palette=\"flare\")\n",
    "ax.set_title('Number of samples in each class (M: Malignant, B: Benign )', fontsize=20)\n",
    "for p in ax.patches:\n",
    "    ax.annotate(f'\\n{p.get_height()}', (p.get_x()+0.2, p.get_height()), ha='center', va='top', color='white', size=18)\n",
    "plt.show()"
   ]
  },
  {
   "cell_type": "code",
   "execution_count": 17,
   "id": "c3d71e55",
   "metadata": {},
   "outputs": [],
   "source": [
    "#Task 6 Data Prepration\n",
    "# Set the input (X) and output/target (y) \n",
    "X = BC_df.iloc[:, 1:31].values \n",
    "y = BC_df.iloc[:, 31].values\n",
    "\n",
    "#Encoding categorical data values\n",
    "labelencoder_y = LabelEncoder()\n",
    "y = labelencoder_y.fit_transform(y)\n",
    "\n",
    "X_train, X_test, y_train, y_test = train_test_split(X, y, test_size=0.3, random_state=2)"
   ]
  },
  {
   "cell_type": "code",
   "execution_count": 18,
   "id": "61858c82",
   "metadata": {},
   "outputs": [
    {
     "name": "stdout",
     "output_type": "stream",
     "text": [
      "Feature 0: 469.237570\n",
      "Feature 1: 78.134357\n",
      "Feature 2: 501.266806\n",
      "Feature 3: 432.170763\n",
      "Feature 4: 57.535704\n",
      "Feature 5: 196.665319\n",
      "Feature 6: 390.444837\n",
      "Feature 7: 607.953095\n",
      "Feature 8: 45.407943\n",
      "Feature 9: 0.373854\n",
      "Feature 10: 213.864297\n",
      "Feature 11: 0.527017\n",
      "Feature 12: 203.245039\n",
      "Feature 13: 187.257462\n",
      "Feature 14: 0.111326\n",
      "Feature 15: 38.091411\n",
      "Feature 16: 42.658035\n",
      "Feature 17: 98.118416\n",
      "Feature 18: 0.117171\n",
      "Feature 19: 4.213892\n",
      "Feature 20: 627.458042\n",
      "Feature 21: 99.527090\n",
      "Feature 22: 643.048231\n",
      "Feature 23: 495.016795\n",
      "Feature 24: 86.528293\n",
      "Feature 25: 188.441040\n",
      "Feature 26: 276.008441\n",
      "Feature 27: 634.125089\n",
      "Feature 28: 75.064925\n",
      "Feature 29: 40.186765\n"
     ]
    },
    {
     "data": {
      "image/png": "[encoded data removed]",
      "text/plain": [
       "<Figure size 432x288 with 1 Axes>"
      ]
     },
     "metadata": {
      "needs_background": "light"
     },
     "output_type": "display_data"
    }
   ],
   "source": [
    "#Task 7 ANOVA FEATURE SELECTION\n",
    "# Ranking of all features based on ANOVA F-scores\n",
    "\n",
    "fs = SelectKBest(score_func=f_classif, k=30) \n",
    "fs.fit(X_train, y_train)\n",
    "# transform train input data\n",
    "X_train_fs = fs.transform(X_train)\n",
    "# transform test input data\n",
    "X_test_fs = fs.transform(X_test)\n",
    "\n",
    "fs_score_df=pd.DataFrame()\n",
    "feature_no=0\n",
    "feature_score=0\n",
    "for i in range(len(fs.scores_)):\n",
    "    print('Feature %d: %f' % (i, fs.scores_[i]))\n",
    "    fs_score_df = fs_score_df.append({feature_no:i,feature_score:fs.scores_[i]}, ignore_index=True)\n",
    "    \n",
    "# plot the scores\n",
    "plt.bar([i for i in range(len(fs.scores_))], fs.scores_)\n",
    "plt.show()"
   ]
  },
  {
   "cell_type": "code",
   "execution_count": 23,
   "id": "b8c94f4c",
   "metadata": {
    "scrolled": true
   },
   "outputs": [
    {
     "data": {
      "text/html": [
       "<div>\n",
       "<style scoped>\n",
       "    .dataframe tbody tr th:only-of-type {\n",
       "        vertical-align: middle;\n",
       "    }\n",
       "\n",
       "    .dataframe tbody tr th {\n",
       "        vertical-align: top;\n",
       "    }\n",
       "\n",
       "    .dataframe thead th {\n",
       "        text-align: right;\n",
       "    }\n",
       "</style>\n",
       "<table border=\"1\" class=\"dataframe\">\n",
       "  <thead>\n",
       "    <tr style=\"text-align: right;\">\n",
       "      <th></th>\n",
       "      <th>scores</th>\n",
       "      <th>feature</th>\n",
       "    </tr>\n",
       "  </thead>\n",
       "  <tbody>\n",
       "    <tr>\n",
       "      <th>0</th>\n",
       "      <td>643.048231</td>\n",
       "      <td>22</td>\n",
       "    </tr>\n",
       "    <tr>\n",
       "      <th>1</th>\n",
       "      <td>634.125089</td>\n",
       "      <td>27</td>\n",
       "    </tr>\n",
       "    <tr>\n",
       "      <th>2</th>\n",
       "      <td>627.458042</td>\n",
       "      <td>20</td>\n",
       "    </tr>\n",
       "    <tr>\n",
       "      <th>3</th>\n",
       "      <td>607.953095</td>\n",
       "      <td>7</td>\n",
       "    </tr>\n",
       "    <tr>\n",
       "      <th>4</th>\n",
       "      <td>501.266806</td>\n",
       "      <td>2</td>\n",
       "    </tr>\n",
       "    <tr>\n",
       "      <th>5</th>\n",
       "      <td>495.016795</td>\n",
       "      <td>23</td>\n",
       "    </tr>\n",
       "    <tr>\n",
       "      <th>6</th>\n",
       "      <td>469.237570</td>\n",
       "      <td>0</td>\n",
       "    </tr>\n",
       "    <tr>\n",
       "      <th>7</th>\n",
       "      <td>432.170763</td>\n",
       "      <td>3</td>\n",
       "    </tr>\n",
       "    <tr>\n",
       "      <th>8</th>\n",
       "      <td>390.444837</td>\n",
       "      <td>6</td>\n",
       "    </tr>\n",
       "    <tr>\n",
       "      <th>9</th>\n",
       "      <td>276.008441</td>\n",
       "      <td>26</td>\n",
       "    </tr>\n",
       "  </tbody>\n",
       "</table>\n",
       "</div>"
      ],
      "text/plain": [
       "      scores   feature\n",
       "0  643.048231       22\n",
       "1  634.125089       27\n",
       "2  627.458042       20\n",
       "3  607.953095        7\n",
       "4  501.266806        2\n",
       "5  495.016795       23\n",
       "6  469.237570        0\n",
       "7  432.170763        3\n",
       "8  390.444837        6\n",
       "9  276.008441       26"
      ]
     },
     "execution_count": 23,
     "metadata": {},
     "output_type": "execute_result"
    }
   ],
   "source": [
    "df = pd.read_excel('ANOVA.xlsx', index_col=0)\n",
    "df.to_csv('ANOVA.csv', encoding='utf-8')\n",
    "df = pd.read_csv('ANOVA.csv')\n",
    "\n",
    "df.head(10)"
   ]
  }
 ],
 "metadata": {
  "kernelspec": {
   "display_name": "Python 3 (ipykernel)",
   "language": "python",
   "name": "python3"
  },
  "language_info": {
   "codemirror_mode": {
    "name": "ipython",
    "version": 3
   },
   "file_extension": ".py",
   "mimetype": "text/x-python",
   "name": "python",
   "nbconvert_exporter": "python",
   "pygments_lexer": "ipython3",
   "version": "3.9.7"
  }
 },
 "nbformat": 4,
 "nbformat_minor": 5
}
