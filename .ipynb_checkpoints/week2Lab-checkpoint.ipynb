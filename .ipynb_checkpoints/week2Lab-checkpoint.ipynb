{
 "cells": [
  {
   "cell_type": "code",
   "execution_count": 7,
   "id": "beb551f9",
   "metadata": {},
   "outputs": [
    {
     "name": "stdout",
     "output_type": "stream",
     "text": [
      "      A     B      C    D\n",
      "0   1.0   2.0    3.0  4.0\n",
      "1   5.0   6.0         8.0\n",
      "2  10.0  11.0   12.0  NaN\n",
      "\n",
      " A    0\n",
      " B    0\n",
      " C    0\n",
      " D    1\n",
      "dtype: int64\n",
      "\n",
      "     A    B     C    D\n",
      "0  1.0  2.0   3.0  4.0\n",
      "1  5.0  6.0        8.0\n",
      "\n",
      "      A     B      C\n",
      "0   1.0   2.0    3.0\n",
      "1   5.0   6.0       \n",
      "2  10.0  11.0   12.0\n",
      "\n",
      "      A     B      C    D\n",
      "0   1.0   2.0    3.0  4.0\n",
      "1   5.0   6.0         8.0\n",
      "2  10.0  11.0   12.0  NaN\n",
      "\n",
      "     A    B     C    D\n",
      "0  1.0  2.0   3.0  4.0\n",
      "1  5.0  6.0        8.0\n",
      "\n"
     ]
    },
    {
     "ename": "KeyError",
     "evalue": "['C']",
     "output_type": "error",
     "traceback": [
      "\u001b[1;31m---------------------------------------------------------------------------\u001b[0m",
      "\u001b[1;31mKeyError\u001b[0m                                  Traceback (most recent call last)",
      "\u001b[1;32m~\\AppData\\Local\\Temp/ipykernel_5364/4209941985.py\u001b[0m in \u001b[0;36m<module>\u001b[1;34m\u001b[0m\n\u001b[0;32m     48\u001b[0m \u001b[0mprint\u001b[0m\u001b[1;33m(\u001b[0m\u001b[0mdf\u001b[0m\u001b[1;33m.\u001b[0m\u001b[0mdropna\u001b[0m\u001b[1;33m(\u001b[0m\u001b[0mthresh\u001b[0m \u001b[1;33m=\u001b[0m \u001b[1;36m4\u001b[0m\u001b[1;33m)\u001b[0m\u001b[1;33m)\u001b[0m  \u001b[1;31m##非空元素最低数量。int型，默认为None。如果该行/列中，非空元素数量小于4，就删除该行/列\u001b[0m\u001b[1;33m\u001b[0m\u001b[1;33m\u001b[0m\u001b[0m\n\u001b[0;32m     49\u001b[0m \u001b[0mprint\u001b[0m\u001b[1;33m(\u001b[0m\u001b[1;34m\"\"\"\"\"\"\u001b[0m\u001b[1;33m)\u001b[0m\u001b[1;33m\u001b[0m\u001b[1;33m\u001b[0m\u001b[0m\n\u001b[1;32m---> 50\u001b[1;33m \u001b[0mprint\u001b[0m\u001b[1;33m(\u001b[0m\u001b[0mdf\u001b[0m\u001b[1;33m.\u001b[0m\u001b[0mdropna\u001b[0m\u001b[1;33m(\u001b[0m\u001b[0msubset\u001b[0m \u001b[1;33m=\u001b[0m \u001b[1;33m[\u001b[0m\u001b[1;34m'C'\u001b[0m\u001b[1;33m]\u001b[0m\u001b[1;33m)\u001b[0m\u001b[1;33m)\u001b[0m\u001b[1;33m\u001b[0m\u001b[1;33m\u001b[0m\u001b[0m\n\u001b[0m\u001b[0;32m     51\u001b[0m \u001b[0mprint\u001b[0m\u001b[1;33m(\u001b[0m\u001b[1;34m\"\"\"\"\"\"\u001b[0m\u001b[1;33m)\u001b[0m\u001b[1;33m\u001b[0m\u001b[1;33m\u001b[0m\u001b[0m\n\u001b[0;32m     52\u001b[0m \u001b[1;33m\u001b[0m\u001b[0m\n",
      "\u001b[1;32mD:\\environment\\anocanda\\lib\\site-packages\\pandas\\util\\_decorators.py\u001b[0m in \u001b[0;36mwrapper\u001b[1;34m(*args, **kwargs)\u001b[0m\n\u001b[0;32m    309\u001b[0m                     \u001b[0mstacklevel\u001b[0m\u001b[1;33m=\u001b[0m\u001b[0mstacklevel\u001b[0m\u001b[1;33m,\u001b[0m\u001b[1;33m\u001b[0m\u001b[1;33m\u001b[0m\u001b[0m\n\u001b[0;32m    310\u001b[0m                 )\n\u001b[1;32m--> 311\u001b[1;33m             \u001b[1;32mreturn\u001b[0m \u001b[0mfunc\u001b[0m\u001b[1;33m(\u001b[0m\u001b[1;33m*\u001b[0m\u001b[0margs\u001b[0m\u001b[1;33m,\u001b[0m \u001b[1;33m**\u001b[0m\u001b[0mkwargs\u001b[0m\u001b[1;33m)\u001b[0m\u001b[1;33m\u001b[0m\u001b[1;33m\u001b[0m\u001b[0m\n\u001b[0m\u001b[0;32m    312\u001b[0m \u001b[1;33m\u001b[0m\u001b[0m\n\u001b[0;32m    313\u001b[0m         \u001b[1;32mreturn\u001b[0m \u001b[0mwrapper\u001b[0m\u001b[1;33m\u001b[0m\u001b[1;33m\u001b[0m\u001b[0m\n",
      "\u001b[1;32mD:\\environment\\anocanda\\lib\\site-packages\\pandas\\core\\frame.py\u001b[0m in \u001b[0;36mdropna\u001b[1;34m(self, axis, how, thresh, subset, inplace)\u001b[0m\n\u001b[0;32m   5951\u001b[0m             \u001b[0mcheck\u001b[0m \u001b[1;33m=\u001b[0m \u001b[0mindices\u001b[0m \u001b[1;33m==\u001b[0m \u001b[1;33m-\u001b[0m\u001b[1;36m1\u001b[0m\u001b[1;33m\u001b[0m\u001b[1;33m\u001b[0m\u001b[0m\n\u001b[0;32m   5952\u001b[0m             \u001b[1;32mif\u001b[0m \u001b[0mcheck\u001b[0m\u001b[1;33m.\u001b[0m\u001b[0many\u001b[0m\u001b[1;33m(\u001b[0m\u001b[1;33m)\u001b[0m\u001b[1;33m:\u001b[0m\u001b[1;33m\u001b[0m\u001b[1;33m\u001b[0m\u001b[0m\n\u001b[1;32m-> 5953\u001b[1;33m                 \u001b[1;32mraise\u001b[0m \u001b[0mKeyError\u001b[0m\u001b[1;33m(\u001b[0m\u001b[0mlist\u001b[0m\u001b[1;33m(\u001b[0m\u001b[0mnp\u001b[0m\u001b[1;33m.\u001b[0m\u001b[0mcompress\u001b[0m\u001b[1;33m(\u001b[0m\u001b[0mcheck\u001b[0m\u001b[1;33m,\u001b[0m \u001b[0msubset\u001b[0m\u001b[1;33m)\u001b[0m\u001b[1;33m)\u001b[0m\u001b[1;33m)\u001b[0m\u001b[1;33m\u001b[0m\u001b[1;33m\u001b[0m\u001b[0m\n\u001b[0m\u001b[0;32m   5954\u001b[0m             \u001b[0magg_obj\u001b[0m \u001b[1;33m=\u001b[0m \u001b[0mself\u001b[0m\u001b[1;33m.\u001b[0m\u001b[0mtake\u001b[0m\u001b[1;33m(\u001b[0m\u001b[0mindices\u001b[0m\u001b[1;33m,\u001b[0m \u001b[0maxis\u001b[0m\u001b[1;33m=\u001b[0m\u001b[0magg_axis\u001b[0m\u001b[1;33m)\u001b[0m\u001b[1;33m\u001b[0m\u001b[1;33m\u001b[0m\u001b[0m\n\u001b[0;32m   5955\u001b[0m \u001b[1;33m\u001b[0m\u001b[0m\n",
      "\u001b[1;31mKeyError\u001b[0m: ['C']"
     ]
    }
   ],
   "source": [
    "'''\n",
    "Pandas 是基于NumPy 的一种工具，该工具是为了解决数据分析任务而创建的。\n",
    "Pandas纳入了大量库和一些标准的数据模型，提供了大量能使我们快速便捷地处理数据的函数和方法。\n",
    "主要包含两种数据类型：Series和DataFrame\n",
    "\n",
    "    Series可以理解为dict的升级版本，主数组存放numpy数据类型，index数据存放索引\n",
    "\n",
    "    DataFrame相当于多维的Series，有两个索引数组，分别是行索引和列索引，可以理解成Series组成的字典\n",
    "'''\n",
    "import pandas as pd;\n",
    "\n",
    "from io import StringIO;\n",
    "\n",
    "    \n",
    "csv_Data = ''' A, B, C, D\n",
    "                1.0, 2.0, 3.0, 4.0\n",
    "                5.0, 6.0,  ,8.0\n",
    "                10.0, 11.0, 12.0,\n",
    "                '''\n",
    "df = pd.read_csv(StringIO(csv_Data))\n",
    "\n",
    "print(df)\n",
    "print(\"\"\"\"\"\")\n",
    "\n",
    "newList = df.isnull().sum(); \"\"\"##isnull()函数用来判断缺失值 isnull().sum()则可以用来统计确实值的数量，并且缺失的数值总会将相加的总和数值\n",
    "                                   显示在最后一列中,也就是说即使A行的第一个数值缺失，也会显示D  2 而非 A  1\"\"\"\n",
    "print(newList)\n",
    "print(\"\"\"\"\"\")\n",
    "\"\"\"dropna()能够找到DataFrame类型数据的空值（缺失值），将空值所在的行/列删除后，将新的DataFrame作为返回值返回,\n",
    "其中 ‘0’表示行，‘1’表示列\n",
    "dropna(axis=0, how='any', thresh=None, subset=None, inplace=False)\n",
    "how：筛选方式。‘any’，表示该行/列只要有一个以上的空值，就删除该行/列；‘all’，表示该行/列全部都为空值，就删除该行/列。\n",
    "\n",
    "thresh：非空元素最低数量。int型，默认为None。如果该行/列中，非空元素数量小于这个值，就删除该行/列。\n",
    "\n",
    "subset：子集。列表，元素为行或者列的索引。如果axis=0或者‘index’，subset中元素为列的索引；如果axis=1或者‘column’，subset中元素为行的索引。\n",
    "由subset限制的子区域，是判断是否删除该行/列的条件判断区域。\n",
    "\n",
    "inplace：是否原地替换。布尔值，默认为False。如果为True，则在原DataFrame上进行操作，返回值为None。\n",
    "\"\"\"\n",
    "print(df.dropna(axis=0)) ## 0 行\n",
    "print(\"\"\"\"\"\")\n",
    "print(df.dropna(axis=1))  ##1 列\n",
    "print(\"\"\"\"\"\")\n",
    "a = df.dropna(how = 'all', axis = 1) ##‘all’，表示该列全部都为空值，就删除该列，但是不是，所以不加删除\n",
    "print(a)\n",
    "print(\"\"\"\"\"\")\n",
    "df.dropna(thresh = 4) ##非空元素最低数量。int型，默认为None。如果该行/列中，非空元素数量小于4，就删除该行/列\n",
    "print(\"\"\"\"\"\")\n",
    "df.dropna(subset = ['C'])\n",
    "print(\"\"\"\"\"\")\n",
    "\n",
    "\"\"\"import numpy as np;\n",
    "from sklearn.impute import SimpleImputer\n",
    "from numpy import np\n",
    "imr = SimpleImputer(missing_values = np.nan, strategy = 'mean') ## ImportError: cannot import name 'np' from 'numpy\n",
    "\"\"\""
   ]
  },
  {
   "cell_type": "code",
   "execution_count": 15,
   "id": "be655c15",
   "metadata": {},
   "outputs": [
    {
     "name": "stdout",
     "output_type": "stream",
     "text": [
      "   color size  price classlable\n",
      "0  green    M   10.1     class1\n",
      "1    red    L   13.5     class2\n",
      "2   blue   XL   15.3     class1\n",
      "\n",
      "   color  size  price classlable\n",
      "0  green     1   10.1     class1\n",
      "1    red     2   13.5     class2\n",
      "2   blue     3   15.3     class1\n"
     ]
    }
   ],
   "source": [
    "import pandas as pd\n",
    "df = pd.DataFrame( [ ['green', 'M', 10.1, 'class1'],\n",
    "                 ['red', 'L', 13.5, 'class2'],\n",
    "                 ['blue', 'XL', 15.3, 'class1'] ] )\n",
    "df.columns = ['color', 'size', 'price', 'classlable']\n",
    "\n",
    "print(df);\n",
    "print(\"\"\"\"\"\")\n",
    "''' \n",
    "map() 会根据提供的函数对指定序列做映射。mao(function, iterable, ...) function -- 函数, iterable -- 一个或多个序列\n",
    "\n",
    "第一个参数 function 以参数序列中的每一个元素调用 function 函数，返回包含每次 function 函数返回值的新列表\n",
    "'''\n",
    "size_mapping = {'XL':3, 'L':2, 'M':1}\n",
    "df['size'] = df['size'].map(size_mapping) ##寻找第一个列表中‘size’的合集，并且调用map()函数，用新的列表size_mapping返回，形成新的‘size’列表\n",
    "print(df);"
   ]
  }
 ],
 "metadata": {
  "kernelspec": {
   "display_name": "Python 3 (ipykernel)",
   "language": "python",
   "name": "python3"
  },
  "language_info": {
   "codemirror_mode": {
    "name": "ipython",
    "version": 3
   },
   "file_extension": ".py",
   "mimetype": "text/x-python",
   "name": "python",
   "nbconvert_exporter": "python",
   "pygments_lexer": "ipython3",
   "version": "3.9.7"
  }
 },
 "nbformat": 4,
 "nbformat_minor": 5
}
